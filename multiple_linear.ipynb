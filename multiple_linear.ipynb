{
 "metadata": {
  "language_info": {
   "codemirror_mode": {
    "name": "ipython",
    "version": 3
   },
   "file_extension": ".py",
   "mimetype": "text/x-python",
   "name": "python",
   "nbconvert_exporter": "python",
   "pygments_lexer": "ipython3",
   "version": "3.8.6"
  },
  "orig_nbformat": 2,
  "kernelspec": {
   "name": "python386jvsc74a57bd0916dbcbb3f70747c44a77c7bcd40155683ae19c65e1c03b4aa3499c5328201f1",
   "display_name": "Python 3.8.6 64-bit"
  },
  "metadata": {
   "interpreter": {
    "hash": "916dbcbb3f70747c44a77c7bcd40155683ae19c65e1c03b4aa3499c5328201f1"
   }
  }
 },
 "nbformat": 4,
 "nbformat_minor": 2,
 "cells": [
  {
   "source": [
    "<h1> Multiple Linear Regression </h1>"
   ],
   "cell_type": "markdown",
   "metadata": {}
  },
  {
   "source": [
    "## Importing Libraries"
   ],
   "cell_type": "markdown",
   "metadata": {}
  },
  {
   "cell_type": "code",
   "execution_count": 29,
   "metadata": {},
   "outputs": [],
   "source": [
    "import numpy as np\n",
    "import matplotlib.pyplot as plt \n",
    "import pandas as pd"
   ]
  },
  {
   "source": [
    "## Importing the dataset"
   ],
   "cell_type": "markdown",
   "metadata": {}
  },
  {
   "cell_type": "code",
   "execution_count": 11,
   "metadata": {},
   "outputs": [
    {
     "output_type": "execute_result",
     "data": {
      "text/plain": [
       "      fixed acidity  volatile acidity  citric acid  residual sugar  chlorides  \\\n",
       "0               7.4             0.700         0.00             1.9      0.076   \n",
       "1               7.8             0.880         0.00             2.6      0.098   \n",
       "2               7.8             0.760         0.04             2.3      0.092   \n",
       "3              11.2             0.280         0.56             1.9      0.075   \n",
       "4               7.4             0.700         0.00             1.9      0.076   \n",
       "...             ...               ...          ...             ...        ...   \n",
       "1594            6.2             0.600         0.08             2.0      0.090   \n",
       "1595            5.9             0.550         0.10             2.2      0.062   \n",
       "1596            6.3             0.510         0.13             2.3      0.076   \n",
       "1597            5.9             0.645         0.12             2.0      0.075   \n",
       "1598            6.0             0.310         0.47             3.6      0.067   \n",
       "\n",
       "      free sulfur dioxide  total sulfur dioxide  density    pH  sulphates  \\\n",
       "0                    11.0                  34.0  0.99780  3.51       0.56   \n",
       "1                    25.0                  67.0  0.99680  3.20       0.68   \n",
       "2                    15.0                  54.0  0.99700  3.26       0.65   \n",
       "3                    17.0                  60.0  0.99800  3.16       0.58   \n",
       "4                    11.0                  34.0  0.99780  3.51       0.56   \n",
       "...                   ...                   ...      ...   ...        ...   \n",
       "1594                 32.0                  44.0  0.99490  3.45       0.58   \n",
       "1595                 39.0                  51.0  0.99512  3.52       0.76   \n",
       "1596                 29.0                  40.0  0.99574  3.42       0.75   \n",
       "1597                 32.0                  44.0  0.99547  3.57       0.71   \n",
       "1598                 18.0                  42.0  0.99549  3.39       0.66   \n",
       "\n",
       "      alcohol  quality  \n",
       "0         9.4        5  \n",
       "1         9.8        5  \n",
       "2         9.8        5  \n",
       "3         9.8        6  \n",
       "4         9.4        5  \n",
       "...       ...      ...  \n",
       "1594     10.5        5  \n",
       "1595     11.2        6  \n",
       "1596     11.0        6  \n",
       "1597     10.2        5  \n",
       "1598     11.0        6  \n",
       "\n",
       "[1599 rows x 12 columns]"
      ],
      "text/html": "<div>\n<style scoped>\n    .dataframe tbody tr th:only-of-type {\n        vertical-align: middle;\n    }\n\n    .dataframe tbody tr th {\n        vertical-align: top;\n    }\n\n    .dataframe thead th {\n        text-align: right;\n    }\n</style>\n<table border=\"1\" class=\"dataframe\">\n  <thead>\n    <tr style=\"text-align: right;\">\n      <th></th>\n      <th>fixed acidity</th>\n      <th>volatile acidity</th>\n      <th>citric acid</th>\n      <th>residual sugar</th>\n      <th>chlorides</th>\n      <th>free sulfur dioxide</th>\n      <th>total sulfur dioxide</th>\n      <th>density</th>\n      <th>pH</th>\n      <th>sulphates</th>\n      <th>alcohol</th>\n      <th>quality</th>\n    </tr>\n  </thead>\n  <tbody>\n    <tr>\n      <th>0</th>\n      <td>7.4</td>\n      <td>0.700</td>\n      <td>0.00</td>\n      <td>1.9</td>\n      <td>0.076</td>\n      <td>11.0</td>\n      <td>34.0</td>\n      <td>0.99780</td>\n      <td>3.51</td>\n      <td>0.56</td>\n      <td>9.4</td>\n      <td>5</td>\n    </tr>\n    <tr>\n      <th>1</th>\n      <td>7.8</td>\n      <td>0.880</td>\n      <td>0.00</td>\n      <td>2.6</td>\n      <td>0.098</td>\n      <td>25.0</td>\n      <td>67.0</td>\n      <td>0.99680</td>\n      <td>3.20</td>\n      <td>0.68</td>\n      <td>9.8</td>\n      <td>5</td>\n    </tr>\n    <tr>\n      <th>2</th>\n      <td>7.8</td>\n      <td>0.760</td>\n      <td>0.04</td>\n      <td>2.3</td>\n      <td>0.092</td>\n      <td>15.0</td>\n      <td>54.0</td>\n      <td>0.99700</td>\n      <td>3.26</td>\n      <td>0.65</td>\n      <td>9.8</td>\n      <td>5</td>\n    </tr>\n    <tr>\n      <th>3</th>\n      <td>11.2</td>\n      <td>0.280</td>\n      <td>0.56</td>\n      <td>1.9</td>\n      <td>0.075</td>\n      <td>17.0</td>\n      <td>60.0</td>\n      <td>0.99800</td>\n      <td>3.16</td>\n      <td>0.58</td>\n      <td>9.8</td>\n      <td>6</td>\n    </tr>\n    <tr>\n      <th>4</th>\n      <td>7.4</td>\n      <td>0.700</td>\n      <td>0.00</td>\n      <td>1.9</td>\n      <td>0.076</td>\n      <td>11.0</td>\n      <td>34.0</td>\n      <td>0.99780</td>\n      <td>3.51</td>\n      <td>0.56</td>\n      <td>9.4</td>\n      <td>5</td>\n    </tr>\n    <tr>\n      <th>...</th>\n      <td>...</td>\n      <td>...</td>\n      <td>...</td>\n      <td>...</td>\n      <td>...</td>\n      <td>...</td>\n      <td>...</td>\n      <td>...</td>\n      <td>...</td>\n      <td>...</td>\n      <td>...</td>\n      <td>...</td>\n    </tr>\n    <tr>\n      <th>1594</th>\n      <td>6.2</td>\n      <td>0.600</td>\n      <td>0.08</td>\n      <td>2.0</td>\n      <td>0.090</td>\n      <td>32.0</td>\n      <td>44.0</td>\n      <td>0.99490</td>\n      <td>3.45</td>\n      <td>0.58</td>\n      <td>10.5</td>\n      <td>5</td>\n    </tr>\n    <tr>\n      <th>1595</th>\n      <td>5.9</td>\n      <td>0.550</td>\n      <td>0.10</td>\n      <td>2.2</td>\n      <td>0.062</td>\n      <td>39.0</td>\n      <td>51.0</td>\n      <td>0.99512</td>\n      <td>3.52</td>\n      <td>0.76</td>\n      <td>11.2</td>\n      <td>6</td>\n    </tr>\n    <tr>\n      <th>1596</th>\n      <td>6.3</td>\n      <td>0.510</td>\n      <td>0.13</td>\n      <td>2.3</td>\n      <td>0.076</td>\n      <td>29.0</td>\n      <td>40.0</td>\n      <td>0.99574</td>\n      <td>3.42</td>\n      <td>0.75</td>\n      <td>11.0</td>\n      <td>6</td>\n    </tr>\n    <tr>\n      <th>1597</th>\n      <td>5.9</td>\n      <td>0.645</td>\n      <td>0.12</td>\n      <td>2.0</td>\n      <td>0.075</td>\n      <td>32.0</td>\n      <td>44.0</td>\n      <td>0.99547</td>\n      <td>3.57</td>\n      <td>0.71</td>\n      <td>10.2</td>\n      <td>5</td>\n    </tr>\n    <tr>\n      <th>1598</th>\n      <td>6.0</td>\n      <td>0.310</td>\n      <td>0.47</td>\n      <td>3.6</td>\n      <td>0.067</td>\n      <td>18.0</td>\n      <td>42.0</td>\n      <td>0.99549</td>\n      <td>3.39</td>\n      <td>0.66</td>\n      <td>11.0</td>\n      <td>6</td>\n    </tr>\n  </tbody>\n</table>\n<p>1599 rows × 12 columns</p>\n</div>"
     },
     "metadata": {},
     "execution_count": 11
    }
   ],
   "source": [
    "data = pd.read_csv('wine.csv')\n",
    "X = data.iloc[:, :-1].values\n",
    "y = data.iloc[:, -1].values\n",
    "data"
   ]
  },
  {
   "source": [
    "## Exploring data"
   ],
   "cell_type": "markdown",
   "metadata": {}
  },
  {
   "cell_type": "code",
   "execution_count": 17,
   "metadata": {},
   "outputs": [
    {
     "output_type": "stream",
     "name": "stdout",
     "text": [
      "mean quality: 5.6360225140712945\nmax quality: 8\nmin quality: 3\n"
     ]
    }
   ],
   "source": [
    "print('mean quality:', data['quality'].mean()) \n",
    "print('max quality:', data['quality'].max())\n",
    "print('min quality:', data['quality'].min())\n"
   ]
  },
  {
   "source": [
    "## Conclusions:\n",
    "<ul>\n",
    "    <li> The max quality wine on the dataset has a 8 grade quality </li>\n",
    "    <li> The worst quality wine on the dataset has a 3 grade quality </li>\n",
    "    <li> <strong> Mean Quality 5.63 </stron> </li>\n",
    "    </ul>"
   ],
   "cell_type": "markdown",
   "metadata": {}
  },
  {
   "source": [
    "## Splitting dataset into the Training set and Test set"
   ],
   "cell_type": "markdown",
   "metadata": {}
  },
  {
   "cell_type": "code",
   "execution_count": 18,
   "metadata": {},
   "outputs": [],
   "source": [
    "from sklearn.model_selection import train_test_split\n",
    "X_train, X_test, y_train, y_test = train_test_split(X ,y, test_size = 0.2, random_state = 0)"
   ]
  },
  {
   "source": [
    "## Training the Multiple Linear Regression Model on the Training set"
   ],
   "cell_type": "markdown",
   "metadata": {}
  },
  {
   "cell_type": "code",
   "execution_count": 19,
   "metadata": {},
   "outputs": [
    {
     "output_type": "execute_result",
     "data": {
      "text/plain": [
       "LinearRegression()"
      ]
     },
     "metadata": {},
     "execution_count": 19
    }
   ],
   "source": [
    "from sklearn.linear_model import LinearRegression\n",
    "model = LinearRegression()\n",
    "model.fit(X_train, y_train)"
   ]
  },
  {
   "cell_type": "code",
   "execution_count": 41,
   "metadata": {},
   "outputs": [
    {
     "output_type": "stream",
     "name": "stdout",
     "text": [
      "[[5.78 6.  ]\n [5.04 5.  ]\n [6.6  7.  ]\n [5.34 6.  ]\n [5.94 5.  ]\n [5.01 6.  ]\n [5.4  5.  ]\n [6.05 6.  ]\n [4.87 4.  ]\n [4.95 5.  ]\n [5.29 5.  ]\n [5.41 5.  ]\n [5.71 6.  ]\n [5.13 5.  ]\n [5.53 6.  ]\n [6.38 6.  ]\n [6.81 7.  ]\n [5.74 5.  ]\n [5.98 5.  ]\n [5.09 4.  ]\n [6.34 7.  ]\n [5.16 6.  ]\n [5.64 6.  ]\n [6.15 4.  ]\n [5.48 6.  ]\n [5.03 5.  ]\n [5.19 5.  ]\n [6.49 7.  ]\n [5.33 5.  ]\n [6.3  6.  ]\n [6.03 5.  ]\n [5.83 6.  ]\n [5.59 5.  ]\n [5.29 6.  ]\n [5.76 7.  ]\n [6.15 7.  ]\n [5.14 5.  ]\n [5.48 6.  ]\n [6.39 6.  ]\n [5.79 7.  ]\n [5.43 5.  ]\n [6.05 7.  ]\n [6.7  6.  ]\n [6.6  6.  ]\n [5.97 5.  ]\n [4.79 5.  ]\n [5.5  6.  ]\n [6.02 6.  ]\n [5.49 6.  ]\n [6.11 5.  ]\n [5.31 5.  ]\n [5.28 5.  ]\n [5.76 6.  ]\n [6.36 6.  ]\n [5.72 6.  ]\n [5.27 5.  ]\n [5.08 5.  ]\n [5.31 5.  ]\n [6.51 6.  ]\n [5.44 5.  ]\n [5.16 5.  ]\n [5.76 6.  ]\n [6.07 6.  ]\n [6.29 6.  ]\n [5.07 5.  ]\n [6.12 6.  ]\n [5.36 5.  ]\n [6.01 5.  ]\n [6.12 6.  ]\n [5.99 6.  ]\n [5.35 6.  ]\n [5.44 6.  ]\n [5.06 4.  ]\n [5.59 6.  ]\n [5.63 5.  ]\n [6.26 6.  ]\n [5.38 5.  ]\n [5.31 5.  ]\n [5.72 5.  ]\n [6.3  6.  ]\n [5.71 6.  ]\n [5.28 5.  ]\n [5.9  6.  ]\n [6.09 6.  ]\n [5.51 6.  ]\n [5.37 5.  ]\n [6.24 6.  ]\n [5.07 5.  ]\n [5.33 5.  ]\n [4.97 5.  ]\n [5.16 5.  ]\n [5.32 6.  ]\n [5.81 4.  ]\n [5.41 5.  ]\n [6.21 7.  ]\n [5.35 6.  ]\n [6.29 6.  ]\n [5.36 5.  ]\n [5.45 6.  ]\n [5.91 5.  ]\n [6.86 8.  ]\n [5.96 6.  ]\n [5.78 6.  ]\n [6.29 6.  ]\n [5.6  5.  ]\n [4.95 5.  ]\n [5.6  5.  ]\n [5.42 5.  ]\n [6.01 7.  ]\n [5.28 5.  ]\n [5.89 6.  ]\n [5.13 5.  ]\n [6.24 7.  ]\n [5.02 5.  ]\n [5.61 6.  ]\n [5.78 6.  ]\n [5.67 6.  ]\n [6.41 7.  ]\n [5.8  6.  ]\n [5.64 6.  ]\n [5.14 5.  ]\n [5.91 7.  ]\n [5.41 5.  ]\n [5.08 5.  ]\n [6.21 6.  ]\n [6.32 6.  ]\n [5.31 5.  ]\n [5.43 5.  ]\n [6.   5.  ]\n [6.45 6.  ]\n [5.42 6.  ]\n [5.21 6.  ]\n [6.01 6.  ]\n [5.82 6.  ]\n [6.3  6.  ]\n [5.28 5.  ]\n [5.89 6.  ]\n [5.28 5.  ]\n [6.07 8.  ]\n [5.33 5.  ]\n [6.02 6.  ]\n [5.1  5.  ]\n [5.5  6.  ]\n [5.27 5.  ]\n [5.65 4.  ]\n [5.74 6.  ]\n [6.24 7.  ]\n [6.41 6.  ]\n [6.25 5.  ]\n [5.28 6.  ]\n [5.91 6.  ]\n [5.9  5.  ]\n [5.42 5.  ]\n [5.51 5.  ]\n [5.55 6.  ]\n [5.4  6.  ]\n [5.08 3.  ]\n [5.35 6.  ]\n [6.22 6.  ]\n [6.1  6.  ]\n [5.93 6.  ]\n [5.59 6.  ]\n [6.28 6.  ]\n [5.12 6.  ]\n [5.93 5.  ]\n [5.03 5.  ]\n [6.02 6.  ]\n [6.49 6.  ]\n [5.48 6.  ]\n [5.95 6.  ]\n [5.97 5.  ]\n [5.53 5.  ]\n [4.99 5.  ]\n [6.62 8.  ]\n [5.83 5.  ]\n [6.27 6.  ]\n [6.17 6.  ]\n [6.82 7.  ]\n [6.09 7.  ]\n [4.8  5.  ]\n [5.08 5.  ]\n [6.97 7.  ]\n [5.47 5.  ]\n [6.16 6.  ]\n [6.77 6.  ]\n [5.01 4.  ]\n [5.65 5.  ]\n [5.78 6.  ]\n [5.   5.  ]\n [6.13 5.  ]\n [6.07 6.  ]\n [5.9  5.  ]\n [5.16 6.  ]\n [5.46 6.  ]\n [5.19 5.  ]\n [5.16 5.  ]\n [5.29 5.  ]\n [5.15 5.  ]\n [5.23 5.  ]\n [5.13 5.  ]\n [5.25 5.  ]\n [6.16 6.  ]\n [5.16 6.  ]\n [5.3  5.  ]\n [5.41 6.  ]\n [4.96 6.  ]\n [5.09 5.  ]\n [6.34 6.  ]\n [6.02 7.  ]\n [5.41 6.  ]\n [5.93 6.  ]\n [6.17 6.  ]\n [5.35 5.  ]\n [6.37 5.  ]\n [5.   5.  ]\n [5.45 6.  ]\n [5.9  5.  ]\n [6.03 6.  ]\n [5.56 6.  ]\n [5.   5.  ]\n [5.04 5.  ]\n [5.93 5.  ]\n [6.39 6.  ]\n [5.75 6.  ]\n [5.43 5.  ]\n [6.01 6.  ]\n [6.38 6.  ]\n [5.76 6.  ]\n [4.82 3.  ]\n [5.47 6.  ]\n [5.04 5.  ]\n [5.91 5.  ]\n [5.07 7.  ]\n [5.87 6.  ]\n [6.26 7.  ]\n [5.64 6.  ]\n [6.11 6.  ]\n [6.58 7.  ]\n [6.51 7.  ]\n [6.13 6.  ]\n [5.35 5.  ]\n [4.92 6.  ]\n [5.03 5.  ]\n [5.1  5.  ]\n [5.94 6.  ]\n [4.83 5.  ]\n [5.59 5.  ]\n [5.25 5.  ]\n [4.87 5.  ]\n [6.34 6.  ]\n [4.87 5.  ]\n [5.27 5.  ]\n [4.89 5.  ]\n [5.34 6.  ]\n [5.53 6.  ]\n [5.54 5.  ]\n [5.13 5.  ]\n [5.06 5.  ]\n [5.14 6.  ]\n [5.6  7.  ]\n [5.34 5.  ]\n [6.97 6.  ]\n [5.31 5.  ]\n [5.65 6.  ]\n [5.24 5.  ]\n [4.69 4.  ]\n [5.33 5.  ]\n [4.98 5.  ]\n [5.6  6.  ]\n [6.49 7.  ]\n [5.73 6.  ]\n [5.73 5.  ]\n [5.64 5.  ]\n [6.09 4.  ]\n [5.93 5.  ]\n [5.85 6.  ]\n [6.37 7.  ]\n [5.18 6.  ]\n [6.57 6.  ]\n [6.14 7.  ]\n [5.38 5.  ]\n [6.92 7.  ]\n [5.73 5.  ]\n [6.34 6.  ]\n [5.78 6.  ]\n [5.18 5.  ]\n [5.55 5.  ]\n [5.33 5.  ]\n [6.27 6.  ]\n [5.88 6.  ]\n [5.68 5.  ]\n [5.42 6.  ]\n [6.13 6.  ]\n [5.31 6.  ]\n [5.2  5.  ]\n [5.7  6.  ]\n [5.57 6.  ]\n [5.15 5.  ]\n [5.16 6.  ]\n [5.24 5.  ]\n [5.7  6.  ]\n [5.06 5.  ]\n [5.36 6.  ]\n [5.7  6.  ]\n [6.1  6.  ]\n [5.85 6.  ]\n [5.34 5.  ]\n [5.05 5.  ]\n [5.59 6.  ]\n [5.31 5.  ]\n [5.91 5.  ]\n [5.92 6.  ]\n [5.35 5.  ]\n [5.36 5.  ]\n [5.1  5.  ]\n [6.56 6.  ]\n [6.02 4.  ]\n [6.25 5.  ]\n [5.16 4.  ]\n [6.37 6.  ]]\n"
     ]
    }
   ],
   "source": [
    "y_pred = model.predict(X_test)\n",
    "print(np.concatenate((y_pred.reshape(len(y_pred),1), y_test.reshape(len(y_test),1)),1))"
   ]
  },
  {
   "cell_type": "code",
   "execution_count": null,
   "metadata": {},
   "outputs": [],
   "source": []
  }
 ]
}